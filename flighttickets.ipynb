{
  "nbformat": 4,
  "nbformat_minor": 0,
  "metadata": {
    "colab": {
      "name": "flighttickets.ipynb",
      "provenance": [],
      "collapsed_sections": []
    },
    "kernelspec": {
      "name": "python3",
      "display_name": "Python 3"
    }
  },
  "cells": [
    {
      "cell_type": "code",
      "metadata": {
        "id": "ePJclYGW8IvT"
      },
      "source": [
        "import numpy as np\r\n",
        "import pandas as pd\r\n",
        "from sklearn.model_selection import train_test_split\r\n",
        "from sklearn.impute import SimpleImputer     \r\n",
        "from sklearn.preprocessing import LabelEncoder\r\n",
        "from sklearn.linear_model import LinearRegression\r\n",
        "import seaborn as sns\r\n",
        "import matplotlib.pyplot as plt\r\n",
        "from sklearn.ensemble import RandomForestRegressor\r\n",
        "from xgboost import XGBRegressor\r\n",
        "from xgboost import  XGBRFRegressor\r\n"
      ],
      "execution_count": null,
      "outputs": []
    },
    {
      "cell_type": "code",
      "metadata": {
        "colab": {
          "base_uri": "https://localhost:8080/"
        },
        "id": "JJYvTAHtEDZK",
        "outputId": "d476b51c-729d-4067-87c7-b44b2686b5e9"
      },
      "source": [
        "train_data=pd.read_excel(\"/content/drive/MyDrive/flight dataset/Data_Train.xlsx\")\r\n",
        "test_data=pd.read_excel(\"/content/drive/MyDrive/flight dataset/Test_set.xlsx\")\r\n",
        "train_data.shape"
      ],
      "execution_count": null,
      "outputs": [
        {
          "output_type": "execute_result",
          "data": {
            "text/plain": [
              "(10683, 11)"
            ]
          },
          "metadata": {
            "tags": []
          },
          "execution_count": 30
        }
      ]
    },
    {
      "cell_type": "code",
      "metadata": {
        "colab": {
          "base_uri": "https://localhost:8080/",
          "height": 198
        },
        "id": "h7lRsCWIEN4u",
        "outputId": "ea5d4c14-ee78-4e09-db46-ba6d91ea9070"
      },
      "source": [
        "df=train_data.append(test_data,sort=False)\r\n",
        "df.head()"
      ],
      "execution_count": null,
      "outputs": [
        {
          "output_type": "execute_result",
          "data": {
            "text/html": [
              "<div>\n",
              "<style scoped>\n",
              "    .dataframe tbody tr th:only-of-type {\n",
              "        vertical-align: middle;\n",
              "    }\n",
              "\n",
              "    .dataframe tbody tr th {\n",
              "        vertical-align: top;\n",
              "    }\n",
              "\n",
              "    .dataframe thead th {\n",
              "        text-align: right;\n",
              "    }\n",
              "</style>\n",
              "<table border=\"1\" class=\"dataframe\">\n",
              "  <thead>\n",
              "    <tr style=\"text-align: right;\">\n",
              "      <th></th>\n",
              "      <th>Airline</th>\n",
              "      <th>Date_of_Journey</th>\n",
              "      <th>Source</th>\n",
              "      <th>Destination</th>\n",
              "      <th>Route</th>\n",
              "      <th>Dep_Time</th>\n",
              "      <th>Arrival_Time</th>\n",
              "      <th>Duration</th>\n",
              "      <th>Total_Stops</th>\n",
              "      <th>Additional_Info</th>\n",
              "      <th>Price</th>\n",
              "    </tr>\n",
              "  </thead>\n",
              "  <tbody>\n",
              "    <tr>\n",
              "      <th>0</th>\n",
              "      <td>IndiGo</td>\n",
              "      <td>24/03/2019</td>\n",
              "      <td>Banglore</td>\n",
              "      <td>New Delhi</td>\n",
              "      <td>BLR → DEL</td>\n",
              "      <td>22:20</td>\n",
              "      <td>01:10 22 Mar</td>\n",
              "      <td>2h 50m</td>\n",
              "      <td>non-stop</td>\n",
              "      <td>No info</td>\n",
              "      <td>3897.0</td>\n",
              "    </tr>\n",
              "    <tr>\n",
              "      <th>1</th>\n",
              "      <td>Air India</td>\n",
              "      <td>1/05/2019</td>\n",
              "      <td>Kolkata</td>\n",
              "      <td>Banglore</td>\n",
              "      <td>CCU → IXR → BBI → BLR</td>\n",
              "      <td>05:50</td>\n",
              "      <td>13:15</td>\n",
              "      <td>7h 25m</td>\n",
              "      <td>2 stops</td>\n",
              "      <td>No info</td>\n",
              "      <td>7662.0</td>\n",
              "    </tr>\n",
              "    <tr>\n",
              "      <th>2</th>\n",
              "      <td>Jet Airways</td>\n",
              "      <td>9/06/2019</td>\n",
              "      <td>Delhi</td>\n",
              "      <td>Cochin</td>\n",
              "      <td>DEL → LKO → BOM → COK</td>\n",
              "      <td>09:25</td>\n",
              "      <td>04:25 10 Jun</td>\n",
              "      <td>19h</td>\n",
              "      <td>2 stops</td>\n",
              "      <td>No info</td>\n",
              "      <td>13882.0</td>\n",
              "    </tr>\n",
              "    <tr>\n",
              "      <th>3</th>\n",
              "      <td>IndiGo</td>\n",
              "      <td>12/05/2019</td>\n",
              "      <td>Kolkata</td>\n",
              "      <td>Banglore</td>\n",
              "      <td>CCU → NAG → BLR</td>\n",
              "      <td>18:05</td>\n",
              "      <td>23:30</td>\n",
              "      <td>5h 25m</td>\n",
              "      <td>1 stop</td>\n",
              "      <td>No info</td>\n",
              "      <td>6218.0</td>\n",
              "    </tr>\n",
              "    <tr>\n",
              "      <th>4</th>\n",
              "      <td>IndiGo</td>\n",
              "      <td>01/03/2019</td>\n",
              "      <td>Banglore</td>\n",
              "      <td>New Delhi</td>\n",
              "      <td>BLR → NAG → DEL</td>\n",
              "      <td>16:50</td>\n",
              "      <td>21:35</td>\n",
              "      <td>4h 45m</td>\n",
              "      <td>1 stop</td>\n",
              "      <td>No info</td>\n",
              "      <td>13302.0</td>\n",
              "    </tr>\n",
              "  </tbody>\n",
              "</table>\n",
              "</div>"
            ],
            "text/plain": [
              "       Airline Date_of_Journey    Source  ... Total_Stops Additional_Info    Price\n",
              "0       IndiGo      24/03/2019  Banglore  ...    non-stop         No info   3897.0\n",
              "1    Air India       1/05/2019   Kolkata  ...     2 stops         No info   7662.0\n",
              "2  Jet Airways       9/06/2019     Delhi  ...     2 stops         No info  13882.0\n",
              "3       IndiGo      12/05/2019   Kolkata  ...      1 stop         No info   6218.0\n",
              "4       IndiGo      01/03/2019  Banglore  ...      1 stop         No info  13302.0\n",
              "\n",
              "[5 rows x 11 columns]"
            ]
          },
          "metadata": {
            "tags": []
          },
          "execution_count": 31
        }
      ]
    },
    {
      "cell_type": "code",
      "metadata": {
        "colab": {
          "base_uri": "https://localhost:8080/",
          "height": 198
        },
        "id": "5ky3MFP8FsLL",
        "outputId": "9bc51cbb-b62f-41fc-fdfa-a5cf83a54e92"
      },
      "source": [
        "df[\"journey_day\"]=df['Date_of_Journey'].str.split('/').str[0]\r\n",
        "df[\"journey_month\"]=df['Date_of_Journey'].str.split('/').str[1]\r\n",
        "df[\"journey_year\"]=df['Date_of_Journey'].str.split('/').str[2]\r\n",
        "df.journey_day=df['journey_day'].astype(int)\r\n",
        "df.journey_month=df['journey_month'].astype(int)\r\n",
        "df.journey_year=df['journey_year'].astype(int)\r\n",
        "df.drop(columns='Date_of_Journey',axis=1,inplace=True)\r\n",
        "df.head()"
      ],
      "execution_count": null,
      "outputs": [
        {
          "output_type": "execute_result",
          "data": {
            "text/html": [
              "<div>\n",
              "<style scoped>\n",
              "    .dataframe tbody tr th:only-of-type {\n",
              "        vertical-align: middle;\n",
              "    }\n",
              "\n",
              "    .dataframe tbody tr th {\n",
              "        vertical-align: top;\n",
              "    }\n",
              "\n",
              "    .dataframe thead th {\n",
              "        text-align: right;\n",
              "    }\n",
              "</style>\n",
              "<table border=\"1\" class=\"dataframe\">\n",
              "  <thead>\n",
              "    <tr style=\"text-align: right;\">\n",
              "      <th></th>\n",
              "      <th>Airline</th>\n",
              "      <th>Source</th>\n",
              "      <th>Destination</th>\n",
              "      <th>Route</th>\n",
              "      <th>Dep_Time</th>\n",
              "      <th>Arrival_Time</th>\n",
              "      <th>Duration</th>\n",
              "      <th>Total_Stops</th>\n",
              "      <th>Additional_Info</th>\n",
              "      <th>Price</th>\n",
              "      <th>journey_day</th>\n",
              "      <th>journey_month</th>\n",
              "      <th>journey_year</th>\n",
              "    </tr>\n",
              "  </thead>\n",
              "  <tbody>\n",
              "    <tr>\n",
              "      <th>0</th>\n",
              "      <td>IndiGo</td>\n",
              "      <td>Banglore</td>\n",
              "      <td>New Delhi</td>\n",
              "      <td>BLR → DEL</td>\n",
              "      <td>22:20</td>\n",
              "      <td>01:10 22 Mar</td>\n",
              "      <td>2h 50m</td>\n",
              "      <td>non-stop</td>\n",
              "      <td>No info</td>\n",
              "      <td>3897.0</td>\n",
              "      <td>24</td>\n",
              "      <td>3</td>\n",
              "      <td>2019</td>\n",
              "    </tr>\n",
              "    <tr>\n",
              "      <th>1</th>\n",
              "      <td>Air India</td>\n",
              "      <td>Kolkata</td>\n",
              "      <td>Banglore</td>\n",
              "      <td>CCU → IXR → BBI → BLR</td>\n",
              "      <td>05:50</td>\n",
              "      <td>13:15</td>\n",
              "      <td>7h 25m</td>\n",
              "      <td>2 stops</td>\n",
              "      <td>No info</td>\n",
              "      <td>7662.0</td>\n",
              "      <td>1</td>\n",
              "      <td>5</td>\n",
              "      <td>2019</td>\n",
              "    </tr>\n",
              "    <tr>\n",
              "      <th>2</th>\n",
              "      <td>Jet Airways</td>\n",
              "      <td>Delhi</td>\n",
              "      <td>Cochin</td>\n",
              "      <td>DEL → LKO → BOM → COK</td>\n",
              "      <td>09:25</td>\n",
              "      <td>04:25 10 Jun</td>\n",
              "      <td>19h</td>\n",
              "      <td>2 stops</td>\n",
              "      <td>No info</td>\n",
              "      <td>13882.0</td>\n",
              "      <td>9</td>\n",
              "      <td>6</td>\n",
              "      <td>2019</td>\n",
              "    </tr>\n",
              "    <tr>\n",
              "      <th>3</th>\n",
              "      <td>IndiGo</td>\n",
              "      <td>Kolkata</td>\n",
              "      <td>Banglore</td>\n",
              "      <td>CCU → NAG → BLR</td>\n",
              "      <td>18:05</td>\n",
              "      <td>23:30</td>\n",
              "      <td>5h 25m</td>\n",
              "      <td>1 stop</td>\n",
              "      <td>No info</td>\n",
              "      <td>6218.0</td>\n",
              "      <td>12</td>\n",
              "      <td>5</td>\n",
              "      <td>2019</td>\n",
              "    </tr>\n",
              "    <tr>\n",
              "      <th>4</th>\n",
              "      <td>IndiGo</td>\n",
              "      <td>Banglore</td>\n",
              "      <td>New Delhi</td>\n",
              "      <td>BLR → NAG → DEL</td>\n",
              "      <td>16:50</td>\n",
              "      <td>21:35</td>\n",
              "      <td>4h 45m</td>\n",
              "      <td>1 stop</td>\n",
              "      <td>No info</td>\n",
              "      <td>13302.0</td>\n",
              "      <td>1</td>\n",
              "      <td>3</td>\n",
              "      <td>2019</td>\n",
              "    </tr>\n",
              "  </tbody>\n",
              "</table>\n",
              "</div>"
            ],
            "text/plain": [
              "       Airline    Source Destination  ... journey_day journey_month journey_year\n",
              "0       IndiGo  Banglore   New Delhi  ...          24             3         2019\n",
              "1    Air India   Kolkata    Banglore  ...           1             5         2019\n",
              "2  Jet Airways     Delhi      Cochin  ...           9             6         2019\n",
              "3       IndiGo   Kolkata    Banglore  ...          12             5         2019\n",
              "4       IndiGo  Banglore   New Delhi  ...           1             3         2019\n",
              "\n",
              "[5 rows x 13 columns]"
            ]
          },
          "metadata": {
            "tags": []
          },
          "execution_count": 32
        }
      ]
    },
    {
      "cell_type": "code",
      "metadata": {
        "colab": {
          "base_uri": "https://localhost:8080/",
          "height": 198
        },
        "id": "X5hJkeQUKRZc",
        "outputId": "8604dcd2-3760-4862-9c81-51572c22b197"
      },
      "source": [
        "df['Total_Stops']=df['Total_Stops'].replace(\"non-stop\",'0 stops')\r\n",
        "df.Total_Stops.fillna('0 s',inplace=True)\r\n",
        "df['stops']=df['Total_Stops'].str.split(' ').str[0]\r\n",
        "df.stops=df['stops'].astype(int)\r\n",
        "df.drop(columns='Total_Stops',axis=1,inplace=True)\r\n",
        "df.head()"
      ],
      "execution_count": null,
      "outputs": [
        {
          "output_type": "execute_result",
          "data": {
            "text/html": [
              "<div>\n",
              "<style scoped>\n",
              "    .dataframe tbody tr th:only-of-type {\n",
              "        vertical-align: middle;\n",
              "    }\n",
              "\n",
              "    .dataframe tbody tr th {\n",
              "        vertical-align: top;\n",
              "    }\n",
              "\n",
              "    .dataframe thead th {\n",
              "        text-align: right;\n",
              "    }\n",
              "</style>\n",
              "<table border=\"1\" class=\"dataframe\">\n",
              "  <thead>\n",
              "    <tr style=\"text-align: right;\">\n",
              "      <th></th>\n",
              "      <th>Airline</th>\n",
              "      <th>Source</th>\n",
              "      <th>Destination</th>\n",
              "      <th>Route</th>\n",
              "      <th>Dep_Time</th>\n",
              "      <th>Arrival_Time</th>\n",
              "      <th>Duration</th>\n",
              "      <th>Additional_Info</th>\n",
              "      <th>Price</th>\n",
              "      <th>journey_day</th>\n",
              "      <th>journey_month</th>\n",
              "      <th>journey_year</th>\n",
              "      <th>stops</th>\n",
              "    </tr>\n",
              "  </thead>\n",
              "  <tbody>\n",
              "    <tr>\n",
              "      <th>0</th>\n",
              "      <td>IndiGo</td>\n",
              "      <td>Banglore</td>\n",
              "      <td>New Delhi</td>\n",
              "      <td>BLR → DEL</td>\n",
              "      <td>22:20</td>\n",
              "      <td>01:10 22 Mar</td>\n",
              "      <td>2h 50m</td>\n",
              "      <td>No info</td>\n",
              "      <td>3897.0</td>\n",
              "      <td>24</td>\n",
              "      <td>3</td>\n",
              "      <td>2019</td>\n",
              "      <td>0</td>\n",
              "    </tr>\n",
              "    <tr>\n",
              "      <th>1</th>\n",
              "      <td>Air India</td>\n",
              "      <td>Kolkata</td>\n",
              "      <td>Banglore</td>\n",
              "      <td>CCU → IXR → BBI → BLR</td>\n",
              "      <td>05:50</td>\n",
              "      <td>13:15</td>\n",
              "      <td>7h 25m</td>\n",
              "      <td>No info</td>\n",
              "      <td>7662.0</td>\n",
              "      <td>1</td>\n",
              "      <td>5</td>\n",
              "      <td>2019</td>\n",
              "      <td>2</td>\n",
              "    </tr>\n",
              "    <tr>\n",
              "      <th>2</th>\n",
              "      <td>Jet Airways</td>\n",
              "      <td>Delhi</td>\n",
              "      <td>Cochin</td>\n",
              "      <td>DEL → LKO → BOM → COK</td>\n",
              "      <td>09:25</td>\n",
              "      <td>04:25 10 Jun</td>\n",
              "      <td>19h</td>\n",
              "      <td>No info</td>\n",
              "      <td>13882.0</td>\n",
              "      <td>9</td>\n",
              "      <td>6</td>\n",
              "      <td>2019</td>\n",
              "      <td>2</td>\n",
              "    </tr>\n",
              "    <tr>\n",
              "      <th>3</th>\n",
              "      <td>IndiGo</td>\n",
              "      <td>Kolkata</td>\n",
              "      <td>Banglore</td>\n",
              "      <td>CCU → NAG → BLR</td>\n",
              "      <td>18:05</td>\n",
              "      <td>23:30</td>\n",
              "      <td>5h 25m</td>\n",
              "      <td>No info</td>\n",
              "      <td>6218.0</td>\n",
              "      <td>12</td>\n",
              "      <td>5</td>\n",
              "      <td>2019</td>\n",
              "      <td>1</td>\n",
              "    </tr>\n",
              "    <tr>\n",
              "      <th>4</th>\n",
              "      <td>IndiGo</td>\n",
              "      <td>Banglore</td>\n",
              "      <td>New Delhi</td>\n",
              "      <td>BLR → NAG → DEL</td>\n",
              "      <td>16:50</td>\n",
              "      <td>21:35</td>\n",
              "      <td>4h 45m</td>\n",
              "      <td>No info</td>\n",
              "      <td>13302.0</td>\n",
              "      <td>1</td>\n",
              "      <td>3</td>\n",
              "      <td>2019</td>\n",
              "      <td>1</td>\n",
              "    </tr>\n",
              "  </tbody>\n",
              "</table>\n",
              "</div>"
            ],
            "text/plain": [
              "       Airline    Source Destination  ... journey_month journey_year stops\n",
              "0       IndiGo  Banglore   New Delhi  ...             3         2019     0\n",
              "1    Air India   Kolkata    Banglore  ...             5         2019     2\n",
              "2  Jet Airways     Delhi      Cochin  ...             6         2019     2\n",
              "3       IndiGo   Kolkata    Banglore  ...             5         2019     1\n",
              "4       IndiGo  Banglore   New Delhi  ...             3         2019     1\n",
              "\n",
              "[5 rows x 13 columns]"
            ]
          },
          "metadata": {
            "tags": []
          },
          "execution_count": 33
        }
      ]
    },
    {
      "cell_type": "code",
      "metadata": {
        "colab": {
          "base_uri": "https://localhost:8080/"
        },
        "id": "du3A8hI3KtmK",
        "outputId": "990e4011-2e9f-485d-942d-86a5e00bbaa7"
      },
      "source": [
        "df[df.Route.isnull()]\r\n",
        "df.Route.fillna('none',inplace=True)\r\n",
        "df.isnull().sum()"
      ],
      "execution_count": null,
      "outputs": [
        {
          "output_type": "execute_result",
          "data": {
            "text/plain": [
              "Airline               0\n",
              "Source                0\n",
              "Destination           0\n",
              "Route                 0\n",
              "Dep_Time              0\n",
              "Arrival_Time          0\n",
              "Duration              0\n",
              "Additional_Info       0\n",
              "Price              2671\n",
              "journey_day           0\n",
              "journey_month         0\n",
              "journey_year          0\n",
              "stops                 0\n",
              "dtype: int64"
            ]
          },
          "metadata": {
            "tags": []
          },
          "execution_count": 34
        }
      ]
    },
    {
      "cell_type": "code",
      "metadata": {
        "colab": {
          "base_uri": "https://localhost:8080/"
        },
        "id": "7YT-CmC5S5MP",
        "outputId": "d4c3181c-7338-49f0-9271-d796631f0e67"
      },
      "source": [
        "df['route 1']=df.Route.str.split('→').str[0]\r\n",
        "df['route 2']=df.Route.str.split('→').str[1]\r\n",
        "df['route 3']=df.Route.str.split('→').str[2]\r\n",
        "df['route 4']=df.Route.str.split('→').str[3]\r\n",
        "df['route 5']=df.Route.str.split('→').str[4]\r\n",
        "df['route 6']=df.Route.str.split('→').str[5]\r\n",
        "df.isnull().sum()"
      ],
      "execution_count": null,
      "outputs": [
        {
          "output_type": "execute_result",
          "data": {
            "text/plain": [
              "Airline                0\n",
              "Source                 0\n",
              "Destination            0\n",
              "Route                  0\n",
              "Dep_Time               0\n",
              "Arrival_Time           0\n",
              "Duration               0\n",
              "Additional_Info        0\n",
              "Price               2671\n",
              "journey_day            0\n",
              "journey_month          0\n",
              "journey_year           0\n",
              "stops                  0\n",
              "route 1                0\n",
              "route 2                1\n",
              "route 3             4341\n",
              "route 4            11397\n",
              "route 5            13296\n",
              "route 6            13352\n",
              "dtype: int64"
            ]
          },
          "metadata": {
            "tags": []
          },
          "execution_count": 35
        }
      ]
    },
    {
      "cell_type": "code",
      "metadata": {
        "id": "n8vt5tpVTfZc",
        "colab": {
          "base_uri": "https://localhost:8080/"
        },
        "outputId": "2dc38e70-3839-4eff-e89c-cb6df2421500"
      },
      "source": [
        "df['route 2'].fillna('None',inplace=True) \r\n",
        "df['route 3'].fillna('None',inplace=True)\r\n",
        "df['route 4'].fillna('None',inplace=True)\r\n",
        "df['route 5'].fillna('None',inplace=True)\r\n",
        "df['route 6'].fillna('None',inplace=True)\r\n",
        "df.isnull().sum()"
      ],
      "execution_count": null,
      "outputs": [
        {
          "output_type": "execute_result",
          "data": {
            "text/plain": [
              "Airline               0\n",
              "Source                0\n",
              "Destination           0\n",
              "Route                 0\n",
              "Dep_Time              0\n",
              "Arrival_Time          0\n",
              "Duration              0\n",
              "Additional_Info       0\n",
              "Price              2671\n",
              "journey_day           0\n",
              "journey_month         0\n",
              "journey_year          0\n",
              "stops                 0\n",
              "route 1               0\n",
              "route 2               0\n",
              "route 3               0\n",
              "route 4               0\n",
              "route 5               0\n",
              "route 6               0\n",
              "dtype: int64"
            ]
          },
          "metadata": {
            "tags": []
          },
          "execution_count": 36
        }
      ]
    },
    {
      "cell_type": "code",
      "metadata": {
        "id": "EXaEEZ6trKvS"
      },
      "source": [
        "df.drop(columns='Route',axis=1,inplace=True)"
      ],
      "execution_count": null,
      "outputs": []
    },
    {
      "cell_type": "code",
      "metadata": {
        "colab": {
          "base_uri": "https://localhost:8080/",
          "height": 198
        },
        "id": "eoNYJfvbsMtI",
        "outputId": "fa8754f0-1601-4f90-c65d-23f5dde56269"
      },
      "source": [
        "df.head()"
      ],
      "execution_count": null,
      "outputs": [
        {
          "output_type": "execute_result",
          "data": {
            "text/html": [
              "<div>\n",
              "<style scoped>\n",
              "    .dataframe tbody tr th:only-of-type {\n",
              "        vertical-align: middle;\n",
              "    }\n",
              "\n",
              "    .dataframe tbody tr th {\n",
              "        vertical-align: top;\n",
              "    }\n",
              "\n",
              "    .dataframe thead th {\n",
              "        text-align: right;\n",
              "    }\n",
              "</style>\n",
              "<table border=\"1\" class=\"dataframe\">\n",
              "  <thead>\n",
              "    <tr style=\"text-align: right;\">\n",
              "      <th></th>\n",
              "      <th>Airline</th>\n",
              "      <th>Source</th>\n",
              "      <th>Destination</th>\n",
              "      <th>Dep_Time</th>\n",
              "      <th>Arrival_Time</th>\n",
              "      <th>Duration</th>\n",
              "      <th>Additional_Info</th>\n",
              "      <th>Price</th>\n",
              "      <th>journey_day</th>\n",
              "      <th>journey_month</th>\n",
              "      <th>journey_year</th>\n",
              "      <th>stops</th>\n",
              "      <th>route 1</th>\n",
              "      <th>route 2</th>\n",
              "      <th>route 3</th>\n",
              "      <th>route 4</th>\n",
              "      <th>route 5</th>\n",
              "      <th>route 6</th>\n",
              "    </tr>\n",
              "  </thead>\n",
              "  <tbody>\n",
              "    <tr>\n",
              "      <th>0</th>\n",
              "      <td>IndiGo</td>\n",
              "      <td>Banglore</td>\n",
              "      <td>New Delhi</td>\n",
              "      <td>22:20</td>\n",
              "      <td>01:10 22 Mar</td>\n",
              "      <td>2h 50m</td>\n",
              "      <td>No info</td>\n",
              "      <td>3897.0</td>\n",
              "      <td>24</td>\n",
              "      <td>3</td>\n",
              "      <td>2019</td>\n",
              "      <td>0</td>\n",
              "      <td>BLR</td>\n",
              "      <td>DEL</td>\n",
              "      <td>None</td>\n",
              "      <td>None</td>\n",
              "      <td>None</td>\n",
              "      <td>None</td>\n",
              "    </tr>\n",
              "    <tr>\n",
              "      <th>1</th>\n",
              "      <td>Air India</td>\n",
              "      <td>Kolkata</td>\n",
              "      <td>Banglore</td>\n",
              "      <td>05:50</td>\n",
              "      <td>13:15</td>\n",
              "      <td>7h 25m</td>\n",
              "      <td>No info</td>\n",
              "      <td>7662.0</td>\n",
              "      <td>1</td>\n",
              "      <td>5</td>\n",
              "      <td>2019</td>\n",
              "      <td>2</td>\n",
              "      <td>CCU</td>\n",
              "      <td>IXR</td>\n",
              "      <td>BBI</td>\n",
              "      <td>BLR</td>\n",
              "      <td>None</td>\n",
              "      <td>None</td>\n",
              "    </tr>\n",
              "    <tr>\n",
              "      <th>2</th>\n",
              "      <td>Jet Airways</td>\n",
              "      <td>Delhi</td>\n",
              "      <td>Cochin</td>\n",
              "      <td>09:25</td>\n",
              "      <td>04:25 10 Jun</td>\n",
              "      <td>19h</td>\n",
              "      <td>No info</td>\n",
              "      <td>13882.0</td>\n",
              "      <td>9</td>\n",
              "      <td>6</td>\n",
              "      <td>2019</td>\n",
              "      <td>2</td>\n",
              "      <td>DEL</td>\n",
              "      <td>LKO</td>\n",
              "      <td>BOM</td>\n",
              "      <td>COK</td>\n",
              "      <td>None</td>\n",
              "      <td>None</td>\n",
              "    </tr>\n",
              "    <tr>\n",
              "      <th>3</th>\n",
              "      <td>IndiGo</td>\n",
              "      <td>Kolkata</td>\n",
              "      <td>Banglore</td>\n",
              "      <td>18:05</td>\n",
              "      <td>23:30</td>\n",
              "      <td>5h 25m</td>\n",
              "      <td>No info</td>\n",
              "      <td>6218.0</td>\n",
              "      <td>12</td>\n",
              "      <td>5</td>\n",
              "      <td>2019</td>\n",
              "      <td>1</td>\n",
              "      <td>CCU</td>\n",
              "      <td>NAG</td>\n",
              "      <td>BLR</td>\n",
              "      <td>None</td>\n",
              "      <td>None</td>\n",
              "      <td>None</td>\n",
              "    </tr>\n",
              "    <tr>\n",
              "      <th>4</th>\n",
              "      <td>IndiGo</td>\n",
              "      <td>Banglore</td>\n",
              "      <td>New Delhi</td>\n",
              "      <td>16:50</td>\n",
              "      <td>21:35</td>\n",
              "      <td>4h 45m</td>\n",
              "      <td>No info</td>\n",
              "      <td>13302.0</td>\n",
              "      <td>1</td>\n",
              "      <td>3</td>\n",
              "      <td>2019</td>\n",
              "      <td>1</td>\n",
              "      <td>BLR</td>\n",
              "      <td>NAG</td>\n",
              "      <td>DEL</td>\n",
              "      <td>None</td>\n",
              "      <td>None</td>\n",
              "      <td>None</td>\n",
              "    </tr>\n",
              "  </tbody>\n",
              "</table>\n",
              "</div>"
            ],
            "text/plain": [
              "       Airline    Source Destination Dep_Time  ... route 3 route 4 route 5  route 6\n",
              "0       IndiGo  Banglore   New Delhi    22:20  ...    None    None    None     None\n",
              "1    Air India   Kolkata    Banglore    05:50  ...    BBI      BLR    None     None\n",
              "2  Jet Airways     Delhi      Cochin    09:25  ...    BOM      COK    None     None\n",
              "3       IndiGo   Kolkata    Banglore    18:05  ...     BLR    None    None     None\n",
              "4       IndiGo  Banglore   New Delhi    16:50  ...     DEL    None    None     None\n",
              "\n",
              "[5 rows x 18 columns]"
            ]
          },
          "metadata": {
            "tags": []
          },
          "execution_count": 38
        }
      ]
    },
    {
      "cell_type": "code",
      "metadata": {
        "colab": {
          "base_uri": "https://localhost:8080/"
        },
        "id": "CRG66SZ5soYI",
        "outputId": "09145152-354a-483d-f768-4645e7944884"
      },
      "source": [
        "df['dep_hour']=df['Dep_Time'].str.split(':').str[0]\r\n",
        "df['dep_min']=df['Dep_Time'].str.split(':').str[1]\r\n",
        "df['dep_hour']=df['dep_hour'].astype(int)\r\n",
        "df['dep_min']=df['dep_min'].astype(int)\r\n",
        "df.drop(columns='Dep_Time',axis=1,inplace=True)\r\n",
        "df.dtypes"
      ],
      "execution_count": null,
      "outputs": [
        {
          "output_type": "execute_result",
          "data": {
            "text/plain": [
              "Airline             object\n",
              "Source              object\n",
              "Destination         object\n",
              "Arrival_Time        object\n",
              "Duration            object\n",
              "Additional_Info     object\n",
              "Price              float64\n",
              "journey_day          int64\n",
              "journey_month        int64\n",
              "journey_year         int64\n",
              "stops                int64\n",
              "route 1             object\n",
              "route 2             object\n",
              "route 3             object\n",
              "route 4             object\n",
              "route 5             object\n",
              "route 6             object\n",
              "dep_hour             int64\n",
              "dep_min              int64\n",
              "dtype: object"
            ]
          },
          "metadata": {
            "tags": []
          },
          "execution_count": 39
        }
      ]
    },
    {
      "cell_type": "code",
      "metadata": {
        "id": "RnRYoExgvA7H"
      },
      "source": [
        "df['duration_hour']=df['Duration'].str.split('h').str[0]\r\n",
        "df['duration_min']=df['Duration'].str.split(' ').str[1]\r\n",
        "df.duration_min=df.duration_min.str.split('m').str[0]\r\n",
        "df.duration_hour.fillna('0',inplace=True)\r\n",
        "df.duration_min.fillna('0',inplace=True)\r\n",
        "df.duration_min=df.duration_min.astype(int)\r\n"
      ],
      "execution_count": null,
      "outputs": []
    },
    {
      "cell_type": "code",
      "metadata": {
        "id": "PoHr8MFh2Hcx"
      },
      "source": [
        "df.duration_hour.replace('5m','0',inplace=True)\r\n",
        "df.duration_hour=df.duration_hour.astype(int)"
      ],
      "execution_count": null,
      "outputs": []
    },
    {
      "cell_type": "code",
      "metadata": {
        "colab": {
          "base_uri": "https://localhost:8080/"
        },
        "id": "XndEffPf3W_g",
        "outputId": "e8fb210d-092f-4784-ce22-00b67e623823"
      },
      "source": [
        "df.drop(columns='Duration',axis=1,inplace=True)\r\n",
        "df.dtypes"
      ],
      "execution_count": null,
      "outputs": [
        {
          "output_type": "execute_result",
          "data": {
            "text/plain": [
              "Airline             object\n",
              "Source              object\n",
              "Destination         object\n",
              "Arrival_Time        object\n",
              "Additional_Info     object\n",
              "Price              float64\n",
              "journey_day          int64\n",
              "journey_month        int64\n",
              "journey_year         int64\n",
              "stops                int64\n",
              "route 1             object\n",
              "route 2             object\n",
              "route 3             object\n",
              "route 4             object\n",
              "route 5             object\n",
              "route 6             object\n",
              "dep_hour             int64\n",
              "dep_min              int64\n",
              "duration_hour        int64\n",
              "duration_min         int64\n",
              "dtype: object"
            ]
          },
          "metadata": {
            "tags": []
          },
          "execution_count": 42
        }
      ]
    },
    {
      "cell_type": "code",
      "metadata": {
        "colab": {
          "base_uri": "https://localhost:8080/"
        },
        "id": "wS0vePdn-XA3",
        "outputId": "60a49bf8-3c26-40a1-838a-a1ef5a0613ee"
      },
      "source": [
        "df['Arrival_hour']=df['Arrival_Time'].str.split(':').str[0]\r\n",
        "df['Arrival_min']=df['Arrival_Time'].str.split(':').str[1]\r\n",
        "df['Arrival_date']=df.Arrival_min.str.split(' ').str[1]\r\n",
        "df['Arrival_month']=df.Arrival_min.str.split(' ').str[2]\r\n",
        "df['Arrival_min']=df.Arrival_min.str.split(' ').str[0]\r\n",
        "df['Arrival_hour']=df['Arrival_hour'].astype(int)\r\n",
        "df['Arrival_min']=df['Arrival_min'].astype(int)\r\n",
        "df.drop(columns='Arrival_Time',axis=1,inplace=True)\r\n",
        "df.dtypes"
      ],
      "execution_count": null,
      "outputs": [
        {
          "output_type": "execute_result",
          "data": {
            "text/plain": [
              "Airline             object\n",
              "Source              object\n",
              "Destination         object\n",
              "Additional_Info     object\n",
              "Price              float64\n",
              "journey_day          int64\n",
              "journey_month        int64\n",
              "journey_year         int64\n",
              "stops                int64\n",
              "route 1             object\n",
              "route 2             object\n",
              "route 3             object\n",
              "route 4             object\n",
              "route 5             object\n",
              "route 6             object\n",
              "dep_hour             int64\n",
              "dep_min              int64\n",
              "duration_hour        int64\n",
              "duration_min         int64\n",
              "Arrival_hour         int64\n",
              "Arrival_min          int64\n",
              "Arrival_date        object\n",
              "Arrival_month       object\n",
              "dtype: object"
            ]
          },
          "metadata": {
            "tags": []
          },
          "execution_count": 43
        }
      ]
    },
    {
      "cell_type": "code",
      "metadata": {
        "colab": {
          "base_uri": "https://localhost:8080/"
        },
        "id": "CyEHmodP_57j",
        "outputId": "17c910cd-a47a-49d7-b140-325b055f678d"
      },
      "source": [
        " df.Arrival_date.fillna(df.journey_day,inplace=True)\r\n",
        " df.Arrival_month.fillna(\"None\",inplace=True)\r\n",
        "df.Arrival_date=df.Arrival_date.astype(int)\r\n",
        "df.dtypes"
      ],
      "execution_count": null,
      "outputs": [
        {
          "output_type": "execute_result",
          "data": {
            "text/plain": [
              "Airline             object\n",
              "Source              object\n",
              "Destination         object\n",
              "Additional_Info     object\n",
              "Price              float64\n",
              "journey_day          int64\n",
              "journey_month        int64\n",
              "journey_year         int64\n",
              "stops                int64\n",
              "route 1             object\n",
              "route 2             object\n",
              "route 3             object\n",
              "route 4             object\n",
              "route 5             object\n",
              "route 6             object\n",
              "dep_hour             int64\n",
              "dep_min              int64\n",
              "duration_hour        int64\n",
              "duration_min         int64\n",
              "Arrival_hour         int64\n",
              "Arrival_min          int64\n",
              "Arrival_date         int64\n",
              "Arrival_month       object\n",
              "dtype: object"
            ]
          },
          "metadata": {
            "tags": []
          },
          "execution_count": 44
        }
      ]
    },
    {
      "cell_type": "code",
      "metadata": {
        "colab": {
          "base_uri": "https://localhost:8080/"
        },
        "id": "Nsn_svQmBKLe",
        "outputId": "4e259d04-79ce-4c42-a626-49face796844"
      },
      "source": [
        "encoder=LabelEncoder()\r\n",
        "df.Airline=encoder.fit_transform(df.Airline)\r\n",
        "df.Source=encoder.fit_transform(df.Source)\r\n",
        "df.Destination=encoder.fit_transform(df.Destination)\r\n",
        "df.Additional_Info=encoder.fit_transform(df.Additional_Info)\r\n",
        "df['route 1']=encoder.fit_transform(df['route 1'])\r\n",
        "df['route 2']=encoder.fit_transform(df['route 2'])\r\n",
        "df['route 3']=encoder.fit_transform(df['route 3'])\r\n",
        "df['route 4']=encoder.fit_transform(df['route 4'])\r\n",
        "df['route 5']=encoder.fit_transform(df['route 5'])\r\n",
        "df['route 6']=encoder.fit_transform(df['route 6'])\r\n",
        "df.Arrival_month=encoder.fit_transform(df.Arrival_month)\r\n",
        "df.isnull().sum()"
      ],
      "execution_count": null,
      "outputs": [
        {
          "output_type": "execute_result",
          "data": {
            "text/plain": [
              "Airline               0\n",
              "Source                0\n",
              "Destination           0\n",
              "Additional_Info       0\n",
              "Price              2671\n",
              "journey_day           0\n",
              "journey_month         0\n",
              "journey_year          0\n",
              "stops                 0\n",
              "route 1               0\n",
              "route 2               0\n",
              "route 3               0\n",
              "route 4               0\n",
              "route 5               0\n",
              "route 6               0\n",
              "dep_hour              0\n",
              "dep_min               0\n",
              "duration_hour         0\n",
              "duration_min          0\n",
              "Arrival_hour          0\n",
              "Arrival_min           0\n",
              "Arrival_date          0\n",
              "Arrival_month         0\n",
              "dtype: int64"
            ]
          },
          "metadata": {
            "tags": []
          },
          "execution_count": 45
        }
      ]
    },
    {
      "cell_type": "code",
      "metadata": {
        "colab": {
          "base_uri": "https://localhost:8080/"
        },
        "id": "6NzOBh3tCNuK",
        "outputId": "bce96648-6c2b-407f-eec0-310298f9d774"
      },
      "source": [
        "train_df=df[:10683]\r\n",
        "X=train_df.drop(columns='Price',axis=1)\r\n",
        "y=train_df.Price\r\n",
        "X.shape\r\n",
        "y.isnull().sum()"
      ],
      "execution_count": null,
      "outputs": [
        {
          "output_type": "execute_result",
          "data": {
            "text/plain": [
              "0"
            ]
          },
          "metadata": {
            "tags": []
          },
          "execution_count": 46
        }
      ]
    },
    {
      "cell_type": "code",
      "metadata": {
        "id": "KAOagpGcdTPZ"
      },
      "source": [
        ""
      ],
      "execution_count": null,
      "outputs": []
    },
    {
      "cell_type": "code",
      "metadata": {
        "colab": {
          "base_uri": "https://localhost:8080/"
        },
        "id": "mrBSgOLZEM-B",
        "outputId": "93b70d40-e1dd-4f91-dda7-b7e782221bb0"
      },
      "source": [
        "Test=df[10683:]\r\n",
        "test_df=Test.drop(columns='Price',axis=1)\r\n",
        "test_df.isnull().sum()"
      ],
      "execution_count": null,
      "outputs": [
        {
          "output_type": "execute_result",
          "data": {
            "text/plain": [
              "Airline            0\n",
              "Source             0\n",
              "Destination        0\n",
              "Additional_Info    0\n",
              "journey_day        0\n",
              "journey_month      0\n",
              "journey_year       0\n",
              "stops              0\n",
              "route 1            0\n",
              "route 2            0\n",
              "route 3            0\n",
              "route 4            0\n",
              "route 5            0\n",
              "route 6            0\n",
              "dep_hour           0\n",
              "dep_min            0\n",
              "duration_hour      0\n",
              "duration_min       0\n",
              "Arrival_hour       0\n",
              "Arrival_min        0\n",
              "Arrival_date       0\n",
              "Arrival_month      0\n",
              "dtype: int64"
            ]
          },
          "metadata": {
            "tags": []
          },
          "execution_count": 47
        }
      ]
    },
    {
      "cell_type": "code",
      "metadata": {
        "colab": {
          "base_uri": "https://localhost:8080/",
          "height": 308
        },
        "id": "nlH_LJDTdUIn",
        "outputId": "6ee5969f-4824-46aa-9266-2b6385207f4e"
      },
      "source": [
        "X.describe()"
      ],
      "execution_count": null,
      "outputs": [
        {
          "output_type": "execute_result",
          "data": {
            "text/html": [
              "<div>\n",
              "<style scoped>\n",
              "    .dataframe tbody tr th:only-of-type {\n",
              "        vertical-align: middle;\n",
              "    }\n",
              "\n",
              "    .dataframe tbody tr th {\n",
              "        vertical-align: top;\n",
              "    }\n",
              "\n",
              "    .dataframe thead th {\n",
              "        text-align: right;\n",
              "    }\n",
              "</style>\n",
              "<table border=\"1\" class=\"dataframe\">\n",
              "  <thead>\n",
              "    <tr style=\"text-align: right;\">\n",
              "      <th></th>\n",
              "      <th>Airline</th>\n",
              "      <th>Source</th>\n",
              "      <th>Destination</th>\n",
              "      <th>Additional_Info</th>\n",
              "      <th>journey_day</th>\n",
              "      <th>journey_month</th>\n",
              "      <th>journey_year</th>\n",
              "      <th>stops</th>\n",
              "      <th>route 1</th>\n",
              "      <th>route 2</th>\n",
              "      <th>route 3</th>\n",
              "      <th>route 4</th>\n",
              "      <th>route 5</th>\n",
              "      <th>route 6</th>\n",
              "      <th>dep_hour</th>\n",
              "      <th>dep_min</th>\n",
              "      <th>duration_hour</th>\n",
              "      <th>duration_min</th>\n",
              "      <th>Arrival_hour</th>\n",
              "      <th>Arrival_min</th>\n",
              "      <th>Arrival_date</th>\n",
              "      <th>Arrival_month</th>\n",
              "    </tr>\n",
              "  </thead>\n",
              "  <tbody>\n",
              "    <tr>\n",
              "      <th>count</th>\n",
              "      <td>10683.000000</td>\n",
              "      <td>10683.000000</td>\n",
              "      <td>10683.000000</td>\n",
              "      <td>10683.000000</td>\n",
              "      <td>10683.000000</td>\n",
              "      <td>10683.000000</td>\n",
              "      <td>10683.0</td>\n",
              "      <td>10683.000000</td>\n",
              "      <td>10683.000000</td>\n",
              "      <td>10683.000000</td>\n",
              "      <td>10683.000000</td>\n",
              "      <td>10683.000000</td>\n",
              "      <td>10683.000000</td>\n",
              "      <td>10683.000000</td>\n",
              "      <td>10683.000000</td>\n",
              "      <td>10683.000000</td>\n",
              "      <td>10683.000000</td>\n",
              "      <td>10683.000000</td>\n",
              "      <td>10683.000000</td>\n",
              "      <td>10683.000000</td>\n",
              "      <td>10683.000000</td>\n",
              "      <td>10683.000000</td>\n",
              "    </tr>\n",
              "    <tr>\n",
              "      <th>mean</th>\n",
              "      <td>3.965927</td>\n",
              "      <td>1.952261</td>\n",
              "      <td>1.436113</td>\n",
              "      <td>7.393054</td>\n",
              "      <td>13.508378</td>\n",
              "      <td>4.708602</td>\n",
              "      <td>2019.0</td>\n",
              "      <td>0.824113</td>\n",
              "      <td>2.019657</td>\n",
              "      <td>11.901058</td>\n",
              "      <td>13.562576</td>\n",
              "      <td>11.792193</td>\n",
              "      <td>4.983057</td>\n",
              "      <td>0.999906</td>\n",
              "      <td>12.490686</td>\n",
              "      <td>24.411214</td>\n",
              "      <td>10.246092</td>\n",
              "      <td>28.327249</td>\n",
              "      <td>13.348778</td>\n",
              "      <td>24.690630</td>\n",
              "      <td>13.907517</td>\n",
              "      <td>3.152204</td>\n",
              "    </tr>\n",
              "    <tr>\n",
              "      <th>std</th>\n",
              "      <td>2.352155</td>\n",
              "      <td>1.177221</td>\n",
              "      <td>1.474782</td>\n",
              "      <td>1.214211</td>\n",
              "      <td>8.479277</td>\n",
              "      <td>1.164357</td>\n",
              "      <td>0.0</td>\n",
              "      <td>0.675244</td>\n",
              "      <td>1.206527</td>\n",
              "      <td>8.012455</td>\n",
              "      <td>11.762045</td>\n",
              "      <td>2.948009</td>\n",
              "      <td>0.263901</td>\n",
              "      <td>0.009675</td>\n",
              "      <td>5.748650</td>\n",
              "      <td>18.767980</td>\n",
              "      <td>8.495414</td>\n",
              "      <td>16.946113</td>\n",
              "      <td>6.859125</td>\n",
              "      <td>16.506036</td>\n",
              "      <td>8.466730</td>\n",
              "      <td>1.193524</td>\n",
              "    </tr>\n",
              "    <tr>\n",
              "      <th>min</th>\n",
              "      <td>0.000000</td>\n",
              "      <td>0.000000</td>\n",
              "      <td>0.000000</td>\n",
              "      <td>0.000000</td>\n",
              "      <td>1.000000</td>\n",
              "      <td>3.000000</td>\n",
              "      <td>2019.0</td>\n",
              "      <td>0.000000</td>\n",
              "      <td>0.000000</td>\n",
              "      <td>0.000000</td>\n",
              "      <td>0.000000</td>\n",
              "      <td>0.000000</td>\n",
              "      <td>0.000000</td>\n",
              "      <td>0.000000</td>\n",
              "      <td>0.000000</td>\n",
              "      <td>0.000000</td>\n",
              "      <td>0.000000</td>\n",
              "      <td>0.000000</td>\n",
              "      <td>0.000000</td>\n",
              "      <td>0.000000</td>\n",
              "      <td>1.000000</td>\n",
              "      <td>0.000000</td>\n",
              "    </tr>\n",
              "    <tr>\n",
              "      <th>25%</th>\n",
              "      <td>3.000000</td>\n",
              "      <td>2.000000</td>\n",
              "      <td>0.000000</td>\n",
              "      <td>8.000000</td>\n",
              "      <td>6.000000</td>\n",
              "      <td>3.000000</td>\n",
              "      <td>2019.0</td>\n",
              "      <td>0.000000</td>\n",
              "      <td>1.000000</td>\n",
              "      <td>7.000000</td>\n",
              "      <td>4.000000</td>\n",
              "      <td>13.000000</td>\n",
              "      <td>5.000000</td>\n",
              "      <td>1.000000</td>\n",
              "      <td>8.000000</td>\n",
              "      <td>5.000000</td>\n",
              "      <td>2.000000</td>\n",
              "      <td>15.000000</td>\n",
              "      <td>8.000000</td>\n",
              "      <td>10.000000</td>\n",
              "      <td>7.000000</td>\n",
              "      <td>2.000000</td>\n",
              "    </tr>\n",
              "    <tr>\n",
              "      <th>50%</th>\n",
              "      <td>4.000000</td>\n",
              "      <td>2.000000</td>\n",
              "      <td>1.000000</td>\n",
              "      <td>8.000000</td>\n",
              "      <td>12.000000</td>\n",
              "      <td>5.000000</td>\n",
              "      <td>2019.0</td>\n",
              "      <td>1.000000</td>\n",
              "      <td>2.000000</td>\n",
              "      <td>8.000000</td>\n",
              "      <td>6.000000</td>\n",
              "      <td>13.000000</td>\n",
              "      <td>5.000000</td>\n",
              "      <td>1.000000</td>\n",
              "      <td>11.000000</td>\n",
              "      <td>25.000000</td>\n",
              "      <td>8.000000</td>\n",
              "      <td>30.000000</td>\n",
              "      <td>14.000000</td>\n",
              "      <td>25.000000</td>\n",
              "      <td>13.000000</td>\n",
              "      <td>4.000000</td>\n",
              "    </tr>\n",
              "    <tr>\n",
              "      <th>75%</th>\n",
              "      <td>4.000000</td>\n",
              "      <td>3.000000</td>\n",
              "      <td>2.000000</td>\n",
              "      <td>8.000000</td>\n",
              "      <td>21.000000</td>\n",
              "      <td>6.000000</td>\n",
              "      <td>2019.0</td>\n",
              "      <td>1.000000</td>\n",
              "      <td>3.000000</td>\n",
              "      <td>14.000000</td>\n",
              "      <td>30.000000</td>\n",
              "      <td>13.000000</td>\n",
              "      <td>5.000000</td>\n",
              "      <td>1.000000</td>\n",
              "      <td>18.000000</td>\n",
              "      <td>40.000000</td>\n",
              "      <td>15.000000</td>\n",
              "      <td>45.000000</td>\n",
              "      <td>19.000000</td>\n",
              "      <td>35.000000</td>\n",
              "      <td>21.000000</td>\n",
              "      <td>4.000000</td>\n",
              "    </tr>\n",
              "    <tr>\n",
              "      <th>max</th>\n",
              "      <td>11.000000</td>\n",
              "      <td>4.000000</td>\n",
              "      <td>5.000000</td>\n",
              "      <td>9.000000</td>\n",
              "      <td>27.000000</td>\n",
              "      <td>6.000000</td>\n",
              "      <td>2019.0</td>\n",
              "      <td>4.000000</td>\n",
              "      <td>5.000000</td>\n",
              "      <td>45.000000</td>\n",
              "      <td>30.000000</td>\n",
              "      <td>13.000000</td>\n",
              "      <td>5.000000</td>\n",
              "      <td>1.000000</td>\n",
              "      <td>23.000000</td>\n",
              "      <td>55.000000</td>\n",
              "      <td>47.000000</td>\n",
              "      <td>55.000000</td>\n",
              "      <td>23.000000</td>\n",
              "      <td>55.000000</td>\n",
              "      <td>29.000000</td>\n",
              "      <td>4.000000</td>\n",
              "    </tr>\n",
              "  </tbody>\n",
              "</table>\n",
              "</div>"
            ],
            "text/plain": [
              "            Airline        Source  ...  Arrival_date  Arrival_month\n",
              "count  10683.000000  10683.000000  ...  10683.000000   10683.000000\n",
              "mean       3.965927      1.952261  ...     13.907517       3.152204\n",
              "std        2.352155      1.177221  ...      8.466730       1.193524\n",
              "min        0.000000      0.000000  ...      1.000000       0.000000\n",
              "25%        3.000000      2.000000  ...      7.000000       2.000000\n",
              "50%        4.000000      2.000000  ...     13.000000       4.000000\n",
              "75%        4.000000      3.000000  ...     21.000000       4.000000\n",
              "max       11.000000      4.000000  ...     29.000000       4.000000\n",
              "\n",
              "[8 rows x 22 columns]"
            ]
          },
          "metadata": {
            "tags": []
          },
          "execution_count": 48
        }
      ]
    },
    {
      "cell_type": "code",
      "metadata": {
        "id": "l_yzmXNiEnMP"
      },
      "source": [
        "model=LinearRegression()\r\n",
        "X_train,X_test,Y_train,Y_test=train_test_split(X,y,test_size=0.250023,random_state=0)\r\n",
        "model.fit(X_train,Y_train)\r\n",
        "y_pred=model.predict(test_df)"
      ],
      "execution_count": null,
      "outputs": []
    },
    {
      "cell_type": "code",
      "metadata": {
        "colab": {
          "base_uri": "https://localhost:8080/"
        },
        "id": "FST7k4qOd779",
        "outputId": "25be1acf-2910-4d62-cbd1-bb5e4cb53141"
      },
      "source": [
        "model.score(X_test,Y_test)\r\n",
        "-np.sqrt(np.square(np.log10(y_pred +1)-np.log10(Y_test +1)).mean())"
      ],
      "execution_count": null,
      "outputs": [
        {
          "output_type": "execute_result",
          "data": {
            "text/plain": [
              "-0.2873874743672803"
            ]
          },
          "metadata": {
            "tags": []
          },
          "execution_count": 50
        }
      ]
    },
    {
      "cell_type": "code",
      "metadata": {
        "colab": {
          "base_uri": "https://localhost:8080/"
        },
        "id": "4raikeoY2ODm",
        "outputId": "94f148f6-b6f0-4bba-e82f-c9e42aef787d"
      },
      "source": [
        "model2=RandomForestRegressor(n_estimators=22)\r\n",
        "model2.fit(X_train,Y_train)"
      ],
      "execution_count": null,
      "outputs": [
        {
          "output_type": "execute_result",
          "data": {
            "text/plain": [
              "RandomForestRegressor(bootstrap=True, ccp_alpha=0.0, criterion='mse',\n",
              "                      max_depth=None, max_features='auto', max_leaf_nodes=None,\n",
              "                      max_samples=None, min_impurity_decrease=0.0,\n",
              "                      min_impurity_split=None, min_samples_leaf=1,\n",
              "                      min_samples_split=2, min_weight_fraction_leaf=0.0,\n",
              "                      n_estimators=22, n_jobs=None, oob_score=False,\n",
              "                      random_state=None, verbose=0, warm_start=False)"
            ]
          },
          "metadata": {
            "tags": []
          },
          "execution_count": 51
        }
      ]
    },
    {
      "cell_type": "code",
      "metadata": {
        "colab": {
          "base_uri": "https://localhost:8080/"
        },
        "id": "S6SsrdQD29mk",
        "outputId": "7fb22abc-dc69-446a-b2fe-fd5e13faa6b2"
      },
      "source": [
        "y2_pred=model2.predict(test_df)\r\n",
        "model2.score(X_test,Y_test)\r\n",
        "-np.sqrt(np.square(np.log10(y2_pred +1)-np.log10(Y_test +1)).mean())"
      ],
      "execution_count": null,
      "outputs": [
        {
          "output_type": "execute_result",
          "data": {
            "text/plain": [
              "-0.308906762451867"
            ]
          },
          "metadata": {
            "tags": []
          },
          "execution_count": 52
        }
      ]
    },
    {
      "cell_type": "code",
      "metadata": {
        "colab": {
          "base_uri": "https://localhost:8080/"
        },
        "id": "WmUnOpJJ-tOk",
        "outputId": "b5dc7a7a-2ee7-4314-bdc5-a2499b4c08ed"
      },
      "source": [
        "my_model=XGBRegressor(n_estimators=3000,early_stopping_rounds=10,n_jobs=5)\r\n",
        "my_model.fit(X_train,Y_train)\r\n",
        "y3=my_model.predict(test_df)\r\n",
        "-np.sqrt(np.square(np.log10(y3 +1)-np.log10(Y_test +1)).mean())"
      ],
      "execution_count": null,
      "outputs": [
        {
          "output_type": "stream",
          "text": [
            "[06:39:06] WARNING: /workspace/src/objective/regression_obj.cu:152: reg:linear is now deprecated in favor of reg:squarederror.\n"
          ],
          "name": "stdout"
        },
        {
          "output_type": "execute_result",
          "data": {
            "text/plain": [
              "-0.30999421177836606"
            ]
          },
          "metadata": {
            "tags": []
          },
          "execution_count": 53
        }
      ]
    },
    {
      "cell_type": "code",
      "metadata": {
        "colab": {
          "base_uri": "https://localhost:8080/"
        },
        "id": "cSso8X-i2yvF",
        "outputId": "b6704f17-c808-4bb1-f9b5-b41b6194e2f4"
      },
      "source": [
        "model_3=XGBRFRegressor(n_estimators=3000,early_stopping_rounds=10,n_jobs=5,learning_rate=0.2)\r\n",
        "model_3.fit(X_train,Y_train)\r\n",
        "y4=model_3.predict(test_df)\r\n",
        "-np.sqrt(np.square(np.log10(y4 +1)-np.log10(Y_test +1)).mean())\r\n"
      ],
      "execution_count": null,
      "outputs": [
        {
          "output_type": "stream",
          "text": [
            "[06:46:01] WARNING: /workspace/src/objective/regression_obj.cu:152: reg:linear is now deprecated in favor of reg:squarederror.\n"
          ],
          "name": "stdout"
        },
        {
          "output_type": "execute_result",
          "data": {
            "text/plain": [
              "-0.7338721651219831"
            ]
          },
          "metadata": {
            "tags": []
          },
          "execution_count": 60
        }
      ]
    },
    {
      "cell_type": "code",
      "metadata": {
        "id": "AzsI_T9BFgzQ"
      },
      "source": [
        "pdf=pd.DataFrame({'Price':y4})\r\n",
        "pdf.to_excel('/content/drive/MyDrive/xgrfoutput.xlsx',index=False)"
      ],
      "execution_count": null,
      "outputs": []
    },
    {
      "cell_type": "code",
      "metadata": {
        "id": "juxvJZvIJe87"
      },
      "source": [
        ""
      ],
      "execution_count": null,
      "outputs": []
    }
  ]
}